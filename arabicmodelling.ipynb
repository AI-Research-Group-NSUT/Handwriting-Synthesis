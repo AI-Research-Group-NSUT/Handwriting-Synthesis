{
  "nbformat": 4,
  "nbformat_minor": 0,
  "metadata": {
    "colab": {
      "provenance": [],
      "collapsed_sections": []
    },
    "kernelspec": {
      "name": "python3",
      "display_name": "Python 3"
    },
    "language_info": {
      "name": "python"
    },
    "accelerator": "GPU"
  },
  "cells": [
    {
      "cell_type": "code",
      "execution_count": null,
      "metadata": {
        "colab": {
          "base_uri": "https://localhost:8080/"
        },
        "id": "6u6Ch3XKC9um",
        "outputId": "5275737c-8066-4275-bea7-d677b9f70bfa"
      },
      "outputs": [
        {
          "output_type": "stream",
          "name": "stdout",
          "text": [
            "Archive:  /content/drive/MyDrive/hw/arabic/ADAB DATABASE.zip\n",
            "   creating: ADAB DATABASE/\n",
            "  inflating: ADAB DATABASE/set_1.7z  \n",
            "  inflating: ADAB DATABASE/set_2.7z  \n",
            "  inflating: ADAB DATABASE/set_3.7z  \n"
          ]
        }
      ],
      "source": [
        "!unzip '/content/drive/MyDrive/hw/arabic/ADAB DATABASE.zip'"
      ]
    },
    {
      "cell_type": "code",
      "source": [
        "%%capture\n",
        "!7z x '/content/ADAB DATABASE/set_1.7z' \n",
        "!7z x '/content/ADAB DATABASE/set_2.7z' \n",
        "!7z x '/content/ADAB DATABASE/set_3.7z' "
      ],
      "metadata": {
        "id": "30jr1mvmGyde"
      },
      "execution_count": null,
      "outputs": []
    },
    {
      "cell_type": "code",
      "source": [
        "import os\n",
        "im = len(os.listdir('/content/set_1/images'))\n",
        "ink = len(os.listdir('/content/set_1/inkml'))\n",
        "upx = len(os.listdir('/content/set_1/upx'))"
      ],
      "metadata": {
        "id": "Heg-YbKSKzQ6"
      },
      "execution_count": null,
      "outputs": []
    },
    {
      "cell_type": "code",
      "source": [
        "ink == upx"
      ],
      "metadata": {
        "colab": {
          "base_uri": "https://localhost:8080/"
        },
        "id": "9xY1tZJUhthm",
        "outputId": "a3c53c46-fe58-43e5-a813-020ce3e1c7ce"
      },
      "execution_count": null,
      "outputs": [
        {
          "output_type": "execute_result",
          "data": {
            "text/plain": [
              "True"
            ]
          },
          "metadata": {},
          "execution_count": 4
        }
      ]
    },
    {
      "cell_type": "code",
      "source": [
        "file_1 = os.listdir('/content/set_1/inkml')[2]\n",
        "f = open('/content/set_1/inkml/'+file_1)\n",
        "x = f.read()\n",
        "f.close()\n",
        "# print(x)"
      ],
      "metadata": {
        "id": "VPSK3cSOiR4y"
      },
      "execution_count": null,
      "outputs": []
    },
    {
      "cell_type": "code",
      "source": [
        "import xml.etree.ElementTree as ET\n",
        "tree = ET.fromstring(x)\n",
        "[tuple(map(int,(i.split()[0],i.split()[1]))) for i in tree[2].text.split(',')] # from 2 till end"
      ],
      "metadata": {
        "id": "lThngdpcihV3"
      },
      "execution_count": null,
      "outputs": []
    },
    {
      "cell_type": "code",
      "source": [
        "file_1 = os.listdir('/content/set_1/upx')[2]\n",
        "f = open('/content/set_1/upx/'+file_1)\n",
        "x = f.read()\n",
        "f.close()\n",
        "# print(x)"
      ],
      "metadata": {
        "id": "XaAy_zsvkBR1"
      },
      "execution_count": null,
      "outputs": []
    },
    {
      "cell_type": "code",
      "source": [
        "import xml.etree.ElementTree as ET\n",
        "tree = ET.fromstring(x)\n",
        "tree[2][0][0][0].attrib['value']"
      ],
      "metadata": {
        "colab": {
          "base_uri": "https://localhost:8080/",
          "height": 35
        },
        "id": "-91uzN8PkT7R",
        "outputId": "0dfb5b15-9f6c-4b24-b19a-688012e853b6"
      },
      "execution_count": null,
      "outputs": [
        {
          "output_type": "execute_result",
          "data": {
            "text/plain": [
              "'تاشين'"
            ],
            "application/vnd.google.colaboratory.intrinsic+json": {
              "type": "string"
            }
          },
          "metadata": {},
          "execution_count": 53
        }
      ]
    },
    {
      "cell_type": "code",
      "source": [
        "import xml.etree.ElementTree as ET\n",
        "data_strokes = []\n",
        "for k in [1,2,3]:\n",
        "  for i in os.listdir('/content/set_{}/inkml'.format(k)):\n",
        "    f = open('/content/set_{}/inkml/'.format(k)+i)\n",
        "    x = f.read()\n",
        "    f.close()\n",
        "    tree = ET.fromstring(x)\n",
        "    temp = []\n",
        "    for i in tree[2:]:\n",
        "      temp.append([tuple(map(int,(i.split()[0],i.split()[1]))) for i in i.text.split(',')])\n",
        "    # [tuple(map(int,(i.split()[0],i.split()[1]))) for i in tree[2].text.split(',')] # from 2 till end\n",
        "    data_strokes.append(temp)"
      ],
      "metadata": {
        "id": "GNnzYe7cl2jE"
      },
      "execution_count": null,
      "outputs": []
    },
    {
      "cell_type": "code",
      "source": [
        "import xml.etree.ElementTree as ET\n",
        "data_keys = []\n",
        "for k in [1,2,3]:\n",
        "  for i in os.listdir('/content/set_{}/upx'.format(k)):\n",
        "    f = open('/content/set_{}/upx/'.format(k)+i)\n",
        "    x = f.read()\n",
        "    f.close()\n",
        "    tree = ET.fromstring(x)\n",
        "    data_keys.append(tree[2][0][0][0].attrib['value'])"
      ],
      "metadata": {
        "id": "xD1CuQhunJKN"
      },
      "execution_count": null,
      "outputs": []
    },
    {
      "cell_type": "code",
      "source": [
        "print(len(data_keys))"
      ],
      "metadata": {
        "colab": {
          "base_uri": "https://localhost:8080/"
        },
        "id": "R3WR5C2ms6pA",
        "outputId": "a4dd50f8-b94b-4f5f-a1e8-f38ae5787d53"
      },
      "execution_count": null,
      "outputs": [
        {
          "output_type": "stream",
          "name": "stdout",
          "text": [
            "15158\n"
          ]
        }
      ]
    },
    {
      "cell_type": "code",
      "source": [
        "!git clone https://github.com/X-rayLaser/pytorch-handwriting-synthesis-toolkit\n",
        "!cd pytorch-handwriting-synthesis-toolkit && pip install -r requirements.txt"
      ],
      "metadata": {
        "colab": {
          "base_uri": "https://localhost:8080/"
        },
        "id": "65o2rrq8qdXQ",
        "outputId": "e3a9aa11-d752-47a8-f24f-a31ba01625d5"
      },
      "execution_count": null,
      "outputs": [
        {
          "output_type": "stream",
          "name": "stdout",
          "text": [
            "Cloning into 'pytorch-handwriting-synthesis-toolkit'...\n",
            "remote: Enumerating objects: 1013, done.\u001b[K\n",
            "remote: Counting objects: 100% (167/167), done.\u001b[K\n",
            "remote: Compressing objects: 100% (12/12), done.\u001b[K\n",
            "remote: Total 1013 (delta 158), reused 159 (delta 155), pack-reused 846\u001b[K\n",
            "Receiving objects: 100% (1013/1013), 98.79 MiB | 24.51 MiB/s, done.\n",
            "Resolving deltas: 100% (661/661), done.\n",
            "Looking in indexes: https://pypi.org/simple, https://us-python.pkg.dev/colab-wheels/public/simple/\n",
            "Collecting Pillow==9.0.1\n",
            "  Downloading Pillow-9.0.1-cp37-cp37m-manylinux_2_17_x86_64.manylinux2014_x86_64.whl (4.3 MB)\n",
            "\u001b[K     |████████████████████████████████| 4.3 MB 9.7 MB/s \n",
            "\u001b[?25hCollecting numpy==1.19.5\n",
            "  Downloading numpy-1.19.5-cp37-cp37m-manylinux2010_x86_64.whl (14.8 MB)\n",
            "\u001b[K     |████████████████████████████████| 14.8 MB 52.3 MB/s \n",
            "\u001b[?25hCollecting torch==1.8.1\n",
            "  Downloading torch-1.8.1-cp37-cp37m-manylinux1_x86_64.whl (804.1 MB)\n",
            "\u001b[K     |████████████████████████████████| 804.1 MB 2.6 kB/s \n",
            "\u001b[?25hCollecting matplotlib==3.3.4\n",
            "  Downloading matplotlib-3.3.4-cp37-cp37m-manylinux1_x86_64.whl (11.5 MB)\n",
            "\u001b[K     |████████████████████████████████| 11.5 MB 29.9 MB/s \n",
            "\u001b[?25hCollecting torchvision==0.9.1\n",
            "  Downloading torchvision-0.9.1-cp37-cp37m-manylinux1_x86_64.whl (17.4 MB)\n",
            "\u001b[K     |████████████████████████████████| 17.4 MB 9.0 MB/s \n",
            "\u001b[?25hCollecting requests==2.25.1\n",
            "  Downloading requests-2.25.1-py2.py3-none-any.whl (61 kB)\n",
            "\u001b[K     |████████████████████████████████| 61 kB 10.7 MB/s \n",
            "\u001b[?25hRequirement already satisfied: h5py==3.1.0 in /usr/local/lib/python3.7/dist-packages (from -r requirements.txt (line 7)) (3.1.0)\n",
            "Requirement already satisfied: typing-extensions in /usr/local/lib/python3.7/dist-packages (from torch==1.8.1->-r requirements.txt (line 3)) (4.1.1)\n",
            "Requirement already satisfied: pyparsing!=2.0.4,!=2.1.2,!=2.1.6,>=2.0.3 in /usr/local/lib/python3.7/dist-packages (from matplotlib==3.3.4->-r requirements.txt (line 4)) (3.0.9)\n",
            "Requirement already satisfied: cycler>=0.10 in /usr/local/lib/python3.7/dist-packages (from matplotlib==3.3.4->-r requirements.txt (line 4)) (0.11.0)\n",
            "Requirement already satisfied: kiwisolver>=1.0.1 in /usr/local/lib/python3.7/dist-packages (from matplotlib==3.3.4->-r requirements.txt (line 4)) (1.4.4)\n",
            "Requirement already satisfied: python-dateutil>=2.1 in /usr/local/lib/python3.7/dist-packages (from matplotlib==3.3.4->-r requirements.txt (line 4)) (2.8.2)\n",
            "Requirement already satisfied: chardet<5,>=3.0.2 in /usr/local/lib/python3.7/dist-packages (from requests==2.25.1->-r requirements.txt (line 6)) (3.0.4)\n",
            "Requirement already satisfied: urllib3<1.27,>=1.21.1 in /usr/local/lib/python3.7/dist-packages (from requests==2.25.1->-r requirements.txt (line 6)) (1.24.3)\n",
            "Requirement already satisfied: idna<3,>=2.5 in /usr/local/lib/python3.7/dist-packages (from requests==2.25.1->-r requirements.txt (line 6)) (2.10)\n",
            "Requirement already satisfied: certifi>=2017.4.17 in /usr/local/lib/python3.7/dist-packages (from requests==2.25.1->-r requirements.txt (line 6)) (2022.6.15)\n",
            "Requirement already satisfied: cached-property in /usr/local/lib/python3.7/dist-packages (from h5py==3.1.0->-r requirements.txt (line 7)) (1.5.2)\n",
            "Requirement already satisfied: six>=1.5 in /usr/local/lib/python3.7/dist-packages (from python-dateutil>=2.1->matplotlib==3.3.4->-r requirements.txt (line 4)) (1.15.0)\n",
            "Installing collected packages: numpy, torch, Pillow, torchvision, requests, matplotlib\n",
            "  Attempting uninstall: numpy\n",
            "    Found existing installation: numpy 1.21.6\n",
            "    Uninstalling numpy-1.21.6:\n",
            "      Successfully uninstalled numpy-1.21.6\n",
            "  Attempting uninstall: torch\n",
            "    Found existing installation: torch 1.12.1+cu113\n",
            "    Uninstalling torch-1.12.1+cu113:\n",
            "      Successfully uninstalled torch-1.12.1+cu113\n",
            "  Attempting uninstall: Pillow\n",
            "    Found existing installation: Pillow 7.1.2\n",
            "    Uninstalling Pillow-7.1.2:\n",
            "      Successfully uninstalled Pillow-7.1.2\n",
            "  Attempting uninstall: torchvision\n",
            "    Found existing installation: torchvision 0.13.1+cu113\n",
            "    Uninstalling torchvision-0.13.1+cu113:\n",
            "      Successfully uninstalled torchvision-0.13.1+cu113\n",
            "  Attempting uninstall: requests\n",
            "    Found existing installation: requests 2.23.0\n",
            "    Uninstalling requests-2.23.0:\n",
            "      Successfully uninstalled requests-2.23.0\n",
            "  Attempting uninstall: matplotlib\n",
            "    Found existing installation: matplotlib 3.2.2\n",
            "    Uninstalling matplotlib-3.2.2:\n",
            "      Successfully uninstalled matplotlib-3.2.2\n",
            "\u001b[31mERROR: pip's dependency resolver does not currently take into account all the packages that are installed. This behaviour is the source of the following dependency conflicts.\n",
            "xarray-einstats 0.2.2 requires numpy>=1.21, but you have numpy 1.19.5 which is incompatible.\n",
            "torchtext 0.13.1 requires torch==1.12.1, but you have torch 1.8.1 which is incompatible.\n",
            "torchaudio 0.12.1+cu113 requires torch==1.12.1, but you have torch 1.8.1 which is incompatible.\n",
            "tensorflow 2.8.2+zzzcolab20220719082949 requires numpy>=1.20, but you have numpy 1.19.5 which is incompatible.\n",
            "jax 0.3.17 requires numpy>=1.20, but you have numpy 1.19.5 which is incompatible.\n",
            "cmdstanpy 1.0.7 requires numpy>=1.21, but you have numpy 1.19.5 which is incompatible.\u001b[0m\n",
            "Successfully installed Pillow-9.0.1 matplotlib-3.3.4 numpy-1.19.5 requests-2.25.1 torch-1.8.1 torchvision-0.9.1\n"
          ]
        }
      ]
    },
    {
      "cell_type": "code",
      "source": [
        "%cd /content/pytorch-handwriting-synthesis-toolkit\n",
        "!python prepare_data.py ADAB 'ADAB'"
      ],
      "metadata": {
        "colab": {
          "base_uri": "https://localhost:8080/"
        },
        "id": "CWoi3Tvqo8Nm",
        "outputId": "41d430c2-eb5e-4433-f400-e818f212713f"
      },
      "execution_count": null,
      "outputs": [
        {
          "output_type": "stream",
          "name": "stdout",
          "text": [
            "/content/pytorch-handwriting-synthesis-toolkit\n",
            "Calculating maximum length of training set sequences.\n",
            "Checked 10000 sequences\n",
            "Maximum length is 1081 points\n",
            "Prepared 10000 examples\n",
            "Computing mean: processed 10000 out of 10000 examples\n",
            "Computed mean\n",
            "Computing std: processed 10000 out of 10000 examples\n",
            "Computed std\n",
            "Prepared training data\n",
            "Prepared 5000 examples\n",
            "Computing mean: processed 5000 out of 5158 examples\n",
            "Computed mean\n",
            "Computing std: processed 5000 out of 5158 examples\n",
            "Computed std\n",
            "Prepared validation data\n",
            "Building charset: processed 10000 of 10000 examples\n",
            "Charset is saved to ADAB/charset.txt\n"
          ]
        }
      ]
    },
    {
      "cell_type": "code",
      "source": [
        "!cp -R /content/pytorch-handwriting-synthesis-toolkit/ADAB /content/drive/MyDrive/hw"
      ],
      "metadata": {
        "id": "VqR54sm2xuZH"
      },
      "execution_count": null,
      "outputs": []
    },
    {
      "cell_type": "code",
      "source": [
        "%cd /content/pytorch-handwriting-synthesis-toolkit\n",
        "!python train.py /content/drive/MyDrive/hw/ADAB /content/drive/MyDrive/hw/ADAB_models"
      ],
      "metadata": {
        "colab": {
          "base_uri": "https://localhost:8080/"
        },
        "id": "vlWRrk25o8J9",
        "outputId": "84bd44f7-5539-4f72-feac-5d6b6f4126ed"
      },
      "execution_count": null,
      "outputs": [
        {
          "output_type": "stream",
          "name": "stdout",
          "text": [
            "/content/pytorch-handwriting-synthesis-toolkit\n",
            "Using device cuda:0\n",
            "Could not find a model\n",
            "Training handwriting synthesis model with options: training set size 10000, validation set size 5158, batch size 32, max sequence length 1081,sampling interval (in # iterations): 100\n",
            "Could not find a model\n",
            "Epoch    0 299/313 batches. Loss -142.41 nats. MSE 0.6722. SSE 2.0166./content/pytorch-handwriting-synthesis-toolkit/handwriting_synthesis/utils.py:236: RuntimeWarning: invalid value encountered in float_scalars\n",
            "  colors = [str(t / temperatures.sum()) for t in temperatures]\n",
            "Epoch    0 Loss -154.71 nats, Val. loss -411.55 nats.  MSE 0.6679. SSE 2.0037.  Val. MSE 0.5860. Val. SSE 1.7579.\n",
            "Epoch    1 Loss -426.14 nats, Val. loss -436.71 nats.  MSE 0.5851. SSE 1.7552.  Val. MSE 0.5753. Val. SSE 1.7258.\n",
            "Epoch    2 Loss -457.09 nats, Val. loss -459.99 nats.  MSE 0.5817. SSE 1.7450.  Val. MSE 0.5156. Val. SSE 1.5467.\n",
            "Epoch    3 Loss -480.26 nats, Val. loss -486.53 nats.  MSE 0.4786. SSE 1.4357.  Val. MSE 0.4606. Val. SSE 1.3818.\n",
            "Epoch    4 Loss -503.12 nats, Val. loss -483.56 nats.  MSE 0.4487. SSE 1.3460.  Val. MSE 0.4287. Val. SSE 1.2862.\n",
            "Epoch    5 234/313 batches. Loss -519.63 nats. MSE 0.4336. SSE 1.3008./content/pytorch-handwriting-synthesis-toolkit/handwriting_synthesis/utils.py:224: RuntimeWarning: More than 20 figures have been opened. Figures created through the pyplot interface (`matplotlib.pyplot.figure`) are retained until explicitly closed and may consume too much memory. (To control this warning, see the rcParam `figure.max_open_warning`).\n",
            "  fig, axes = plt.subplots(2)\n",
            "Epoch    5 Loss -536.91 nats, Val. loss -585.93 nats.  MSE 0.4320. SSE 1.2960.  Val. MSE 0.4254. Val. SSE 1.2763.\n",
            "Epoch    6 Loss -538.98 nats, Val. loss -630.05 nats.  MSE 0.4252. SSE 1.2757.  Val. MSE 0.4242. Val. SSE 1.2725.\n",
            "Epoch    7 Loss -627.77 nats, Val. loss -761.72 nats.  MSE 0.4375. SSE 1.3124.  Val. MSE 0.4420. Val. SSE 1.3259.\n",
            "Epoch    8 Loss -660.50 nats, Val. loss -700.99 nats.  MSE 0.4501. SSE 1.3502.  Val. MSE 0.4567. Val. SSE 1.3700.\n",
            "Epoch    9 168/313 batches. Loss -653.66 nats. MSE 0.4721. SSE 1.4162."
          ]
        }
      ]
    },
    {
      "cell_type": "code",
      "source": [
        "%cd /content/pytorch-handwriting-synthesis-toolkit\n",
        "!python synthesize.py /content/drive/MyDrive/hw/ADAB_models/Epoch_6 '' -b 0 --samples_dir=samples2 --trials=5"
      ],
      "metadata": {
        "id": "aJwFpuN9o8HH",
        "colab": {
          "base_uri": "https://localhost:8080/"
        },
        "outputId": "759035c3-5632-41f9-d6fa-10bea25d8c90"
      },
      "execution_count": null,
      "outputs": [
        {
          "output_type": "stream",
          "name": "stdout",
          "text": [
            "/content/pytorch-handwriting-synthesis-toolkit\n",
            "Done 1 / 5\n",
            "Done 2 / 5\n",
            "Done 3 / 5\n",
            "Done 4 / 5\n",
            "Done 5 / 5\n"
          ]
        }
      ]
    },
    {
      "cell_type": "code",
      "source": [],
      "metadata": {
        "id": "_kn6C0ulo8ET"
      },
      "execution_count": null,
      "outputs": []
    },
    {
      "cell_type": "code",
      "source": [],
      "metadata": {
        "id": "0LhVcUBYo8BO"
      },
      "execution_count": null,
      "outputs": []
    },
    {
      "cell_type": "code",
      "source": [],
      "metadata": {
        "id": "mck49Zz_o7-T"
      },
      "execution_count": null,
      "outputs": []
    },
    {
      "cell_type": "code",
      "source": [],
      "metadata": {
        "id": "g50WRnj9o774"
      },
      "execution_count": null,
      "outputs": []
    },
    {
      "cell_type": "code",
      "source": [],
      "metadata": {
        "id": "O6z-2Yw7o744"
      },
      "execution_count": null,
      "outputs": []
    },
    {
      "cell_type": "code",
      "source": [],
      "metadata": {
        "id": "Cm23jk9ko72C"
      },
      "execution_count": null,
      "outputs": []
    },
    {
      "cell_type": "code",
      "source": [
        "import matplotlib.pyplot as plt\n",
        "img = plt.imread('/content/set_1/images/1231874526312.tif')\n",
        "plt.imshow(img[:, :, 0])"
      ],
      "metadata": {
        "colab": {
          "base_uri": "https://localhost:8080/",
          "height": 184
        },
        "id": "UdyhQ3ZOP1Pl",
        "outputId": "a4d114e1-03f2-42bc-8fff-1fb280645b2c"
      },
      "execution_count": null,
      "outputs": [
        {
          "output_type": "execute_result",
          "data": {
            "text/plain": [
              "<matplotlib.image.AxesImage at 0x7f388f5cf690>"
            ]
          },
          "metadata": {},
          "execution_count": 26
        },
        {
          "output_type": "display_data",
          "data": {
            "text/plain": [
              "<Figure size 432x288 with 1 Axes>"
            ],
            "image/png": "[encoded data removed]"
          },
          "metadata": {
            "needs_background": "light"
          }
        }
      ]
    },
    {
      "cell_type": "code",
      "source": [
        "import time\n",
        "s = \"&#x628;&#x626;&#x631; &#x645;&#x631;&#x648;&#x651;&#x629;\"\n",
        "s = list(map(int,s.replace(\"&#x\",\"\").replace(\" \",\"\").split(';')[:-1]))\n",
        "for i in s:\n",
        "  print(chr(int('0x{}'.format(i), 16)), end = \"\")\n",
        "  time.sleep(0.5)"
      ],
      "metadata": {
        "colab": {
          "base_uri": "https://localhost:8080/"
        },
        "id": "jB7LmPHfQQQD",
        "outputId": "02933db0-5de7-4e05-9954-8cf0c812890f"
      },
      "execution_count": null,
      "outputs": [
        {
          "output_type": "stream",
          "name": "stdout",
          "text": [
            "بئرمروّة"
          ]
        }
      ]
    }
  ]
}
